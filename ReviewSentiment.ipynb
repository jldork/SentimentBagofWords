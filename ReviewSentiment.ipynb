{
 "cells": [
  {
   "cell_type": "markdown",
   "metadata": {},
   "source": [
    "# Create the Bag of Words\n"
   ]
  },
  {
   "cell_type": "code",
   "execution_count": 1,
   "metadata": {},
   "outputs": [],
   "source": [
    "# preprocessing\n",
    "import string\n",
    "from glob import glob\n",
    "\n",
    "data_files = glob('./data/*_labelled.txt')\n",
    "data = dict()\n",
    "\n",
    "printable = set(string.printable)\n",
    "\n",
    "def return_lines_from(file):\n",
    "    with open(filename) as f:\n",
    "        text = f.read()\n",
    "    text = ''.join(list(filter(lambda x: x in printable, text)))\n",
    "    return text.splitlines()\n",
    "\n",
    "for filename in data_files:    \n",
    "    data[filename] = return_lines_from(filename)\n"
   ]
  },
  {
   "cell_type": "code",
   "execution_count": 2,
   "metadata": {},
   "outputs": [],
   "source": [
    "from cleaners.sentence_cleaner import SentenceCleaner\n",
    "from collections import Counter\n",
    "\n",
    "# Split into training and testing data\n",
    "cleaner = SentenceCleaner()\n",
    "\n",
    "testing = { 'data':[], 'labels': [] }\n",
    "training = { 'data':[], 'labels': [] }\n",
    "\n",
    "train_words = []\n",
    "\n",
    "for fname in data.keys():\n",
    "    positive = []\n",
    "    negative = []\n",
    "    for i in range(len(data[fname])):\n",
    "        observation = data[fname][i]\n",
    "        sentence, label = observation.split('\\t')\n",
    "        \n",
    "        if int(label) == 1:\n",
    "            positive.append(sentence)\n",
    "        else:\n",
    "            negative.append(sentence)\n",
    "    \n",
    "    training['data'] += positive[:400] + negative[:400]\n",
    "    testing['data'] +=  positive[-100:] + negative[-100:] \n",
    "    \n",
    "    training['labels'] += [1]*400+[0]*400\n",
    "    testing['labels'] += [1]*100 +[0]*100\n"
   ]
  },
  {
   "cell_type": "code",
   "execution_count": 3,
   "metadata": {},
   "outputs": [
    {
     "name": "stdout",
     "output_type": "stream",
     "text": [
      "First Vector\n",
      "[ 0.  0.  0. ...,  0.  0.  0.]\n",
      "Second Vector\n",
      "[ 0.  0.  0. ...,  0.  0.  0.]\n"
     ]
    }
   ],
   "source": [
    "import numpy as np\n",
    "import numpy.linalg as lg\n",
    "from functools import reduce\n",
    "\n",
    "training_cleaned = [Counter(cleaner.clean_sentence(sent)) for sent in training['data']]\n",
    "training_words = reduce(lambda x, y: x+y,[list(obs) for obs in training_cleaned])\n",
    "unique_words = list(set(training_words))\n",
    "index_map = {word: unique_words.index(word) for word in unique_words}\n",
    "\n",
    "X_train = np.zeros( [len(training['data']),len(unique_words)] )\n",
    "\n",
    "for i in range(len(training_cleaned)):\n",
    "    features = training_cleaned[i]\n",
    "    for key, value in features.items():\n",
    "        index = index_map[key]\n",
    "        X_train[i][index] = value\n",
    "\n",
    "print (\"First Vector\")\n",
    "print (X_train[0]) #vector 1\n",
    "print (\"Second Vector\")\n",
    "print (X_train[1]) #vector 2\n",
    "\n",
    "# Use the l-2 normalization\n",
    "X_train = np.apply_along_axis(lambda x: x/lg.norm(x), 0, X_train)"
   ]
  },
  {
   "cell_type": "code",
   "execution_count": 4,
   "metadata": {},
   "outputs": [
    {
     "data": {
      "text/plain": [
       "BernoulliNB(alpha=1.0, binarize=0.0, class_prior=None, fit_prior=True)"
      ]
     },
     "execution_count": 4,
     "metadata": {},
     "output_type": "execute_result"
    }
   ],
   "source": [
    "from sklearn.linear_model import LogisticRegression\n",
    "from sklearn.naive_bayes import BernoulliNB\n",
    "\n",
    "log_classifier = LogisticRegression()\n",
    "log_classifier.fit(X_train, training['labels'])\n",
    "\n",
    "bayes_classifier = BernoulliNB()\n",
    "bayes_classifier.fit(X_train, training['labels'])"
   ]
  },
  {
   "cell_type": "code",
   "execution_count": 5,
   "metadata": {},
   "outputs": [
    {
     "name": "stdout",
     "output_type": "stream",
     "text": [
      "Logistic Regression:  80.0 %\n",
      "Bayes Classifier:  80.8333333333 %\n",
      "\n",
      "The Bayes Classifier does slightly better!\n"
     ]
    }
   ],
   "source": [
    "X_test = np.zeros( [len(testing['data']),len(unique_words)] )\n",
    "\n",
    "cleaned_testing = [Counter(cleaner.clean_sentence(sent)) for sent in testing['data']]\n",
    "\n",
    "for i in range(len(cleaned_testing)):    \n",
    "    features = cleaned_testing[i]\n",
    "    for key, value in features.items():\n",
    "        if key in index_map.keys():\n",
    "            index = index_map[key] \n",
    "            X_test[i][index] = value\n",
    "\n",
    "print(\"Logistic Regression: \", log_classifier.score(X_test, testing['labels'])*100, '%')\n",
    "print(\"Bayes Classifier: \", bayes_classifier.score(X_test, testing['labels'])*100, '%')\n",
    "\n",
    "print(\"\\nThe Bayes Classifier does slightly better!\")"
   ]
  },
  {
   "cell_type": "markdown",
   "metadata": {},
   "source": [
    "# Perform again with bigrams"
   ]
  },
  {
   "cell_type": "code",
   "execution_count": 6,
   "metadata": {},
   "outputs": [],
   "source": [
    "bigrams = [Counter(cleaner.get_bigrams(review)) for review in training['data']]\n",
    "unique_bigrams = list(set(reduce(lambda x, y: x+y, [list(bigram) for bigram in bigrams])))\n",
    "index_map = {bigram: unique_bigrams.index(bigram) for bigram in unique_bigrams}\n",
    "\n",
    "X_train2 = np.zeros( [len(bigrams),len(unique_bigrams)] )\n",
    "for i in range(len(bigrams)):\n",
    "    features = bigrams[i]\n",
    "    for key, value in features.items():\n",
    "        index = index_map[key]\n",
    "        X_train2[i][index] = value\n",
    "\n",
    "test_bigrams =[Counter(cleaner.get_bigrams(review)) for review in testing['data']]\n",
    "X_test2 = np.zeros( [len(test_bigrams),len(unique_bigrams)] )\n",
    "\n",
    "for i in range(len(test_bigrams)):    \n",
    "    features = test_bigrams[i]\n",
    "    for key, value in features.items():\n",
    "        if key in index_map.keys():\n",
    "            index = index_map[key] \n",
    "            X_test2[i][index] = value"
   ]
  },
  {
   "cell_type": "code",
   "execution_count": 7,
   "metadata": {},
   "outputs": [
    {
     "name": "stdout",
     "output_type": "stream",
     "text": [
      "Logistic Regression:  73.8333333333 %\n",
      "Bayes Classifier:  77.1666666667 %\n",
      "\n",
      "The Bayes Classifier does slightly better!\n"
     ]
    }
   ],
   "source": [
    "log_classifier.fit(X_train2, training['labels'])\n",
    "bayes_classifier.fit(X_train2, training['labels'])\n",
    "print(\"Logistic Regression: \", log_classifier.score(X_test2, testing['labels'])*100, '%')\n",
    "print(\"Bayes Classifier: \", bayes_classifier.score(X_test2, testing['labels'])*100, '%')\n",
    "\n",
    "print(\"\\nThe Bayes Classifier does slightly better!\")"
   ]
  },
  {
   "cell_type": "markdown",
   "metadata": {},
   "source": [
    "# Perform PCA"
   ]
  },
  {
   "cell_type": "code",
   "execution_count": 26,
   "metadata": {},
   "outputs": [
    {
     "name": "stdout",
     "output_type": "stream",
     "text": [
      "centered:  (2400, 3336)\n",
      "cov:  (3336, 3336)\n",
      "reconstruction:  (600, 10)\n"
     ]
    }
   ],
   "source": [
    "import numpy as np\n",
    "from numpy.linalg import svd, eigh\n",
    "\n",
    "class PCA:\n",
    "    def __init__(self, X):\n",
    "        self.mean = X.mean(axis=0)\n",
    "        self.centered = X - self.mean\n",
    "        self.cov = np.cov(self.centered.T)\n",
    "        self.eigenvalues, self.eigenvectors = self.get_sorted_eigenvectors()\n",
    "    \n",
    "    def approx(self, X2, rank=10):\n",
    "        centered_new = X2 - self.mean\n",
    "        return pca2.eigenvectors[:rank].dot(centered_new.T).T\n",
    "    \n",
    "    def get_sorted_eigenvectors(self):\n",
    "        eigenvalues, eigenvectors = eigh(self.cov)\n",
    "        order = eigenvalues.argsort()[::-1]   \n",
    "        eigenvalues = eigenvalues[order]\n",
    "        eigenvectors = eigenvectors[:,order]\n",
    "        \n",
    "        eigenvectors = eigenvectors/np.linalg.norm(eigenvectors, axis=0)\n",
    "        return eigenvalues, eigenvectors"
   ]
  },
  {
   "cell_type": "code",
   "execution_count": 32,
   "metadata": {
    "scrolled": false
   },
   "outputs": [
    {
     "name": "stdout",
     "output_type": "stream",
     "text": [
      "Bag of Words\n",
      "\n",
      "centered:  (2400, 3336)\n",
      "cov:  (3336, 3336)\n",
      "\n",
      "10-order approximation\n",
      "\n",
      "Logistic Regression:  49.5 %\n",
      "Bayes Classifier:  48.3333333333 %\n",
      "\n",
      "50-order approximation\n",
      "\n",
      "Logistic Regression:  57.1666666667 %\n",
      "Bayes Classifier:  58.0 %\n",
      "\n",
      "100-order approximation\n",
      "\n",
      "Logistic Regression:  61.5 %\n",
      "Bayes Classifier:  65.5 %\n",
      "\n",
      "500-order approximation\n",
      "\n",
      "Logistic Regression:  70.1666666667 %\n",
      "Bayes Classifier:  66.1666666667 %\n",
      "\n",
      "1000-order approximation\n",
      "\n",
      "Logistic Regression:  71.3333333333 %\n",
      "Bayes Classifier:  67.5 %\n",
      "\n",
      "2000-order approximation\n",
      "\n",
      "Logistic Regression:  77.6666666667 %\n",
      "Bayes Classifier:  69.5 %\n",
      "\n",
      "3000-order approximation\n",
      "\n",
      "Logistic Regression:  79.3333333333 %\n",
      "Bayes Classifier:  69.6666666667 %\n",
      "Bigrams\n",
      "\n",
      "centered:  (2400, 17480)\n",
      "cov:  (17480, 17480)\n",
      "\n",
      "10-order approximation\n",
      "\n",
      "Logistic Regression:  54.1666666667 %\n",
      "Bayes Classifier:  50.6666666667 %\n",
      "\n",
      "50-order approximation\n",
      "\n",
      "Logistic Regression:  52.5 %\n",
      "Bayes Classifier:  53.6666666667 %\n",
      "\n",
      "100-order approximation\n",
      "\n",
      "Logistic Regression:  54.1666666667 %\n",
      "Bayes Classifier:  51.8333333333 %\n",
      "\n",
      "500-order approximation\n",
      "\n",
      "Logistic Regression:  59.0 %\n",
      "Bayes Classifier:  52.8333333333 %\n",
      "\n",
      "1000-order approximation\n",
      "\n",
      "Logistic Regression:  61.5 %\n",
      "Bayes Classifier:  57.3333333333 %\n",
      "\n",
      "2000-order approximation\n",
      "\n",
      "Logistic Regression:  66.5 %\n",
      "Bayes Classifier:  61.6666666667 %\n",
      "\n",
      "3000-order approximation\n",
      "\n",
      "Logistic Regression:  70.8333333333 %\n",
      "Bayes Classifier:  64.0 %\n"
     ]
    }
   ],
   "source": [
    "dimensions = [10, 50, 100, 500, 1000, 2000, 3000]\n",
    "\n",
    "print(\"Bag of Words\\n\")\n",
    "pca2 = PCA(X_train)\n",
    "for n in dimensions:\n",
    "    new_train = pca2.approx(X_train, rank=n)\n",
    "    new_test = pca2.approx(X_test, rank=n)\n",
    "    \n",
    "    print(\"\\n{}-order approximation\\n\".format(n))\n",
    "    log_classifier.fit(new_train, training['labels'])\n",
    "    bayes_classifier.fit(new_train, training['labels'])\n",
    "    \n",
    "    log_score = log_classifier.score(new_test, testing['labels'])*100\n",
    "    print(\"Logistic Regression: \", log_score,'%')\n",
    "    bayes_score = bayes_classifier.score(new_test, testing['labels'])*100\n",
    "    print(\"Bayes Classifier: \", bayes_score, '%')\n",
    "\n",
    "    \n",
    "print(\"Bigrams\\n\")\n",
    "pca2 = PCA(X_train2)\n",
    "for n in dimensions:\n",
    "    new_train = pca2.approx(X_train2, rank=n)\n",
    "    new_test = pca2.approx(X_test2, rank=n)\n",
    "\n",
    "    print(\"\\n{}-order approximation\\n\".format(n))\n",
    "    log_classifier.fit(new_train, training['labels'])\n",
    "    bayes_classifier.fit(new_train, training['labels'])\n",
    "    \n",
    "    log_score = log_classifier.score(new_test, testing['labels'])*100\n",
    "    print(\"Logistic Regression: \", log_score,'%')\n",
    "    bayes_score = bayes_classifier.score(new_test, testing['labels'])*100\n",
    "    print(\"Bayes Classifier: \", bayes_score, '%')"
   ]
  },
  {
   "cell_type": "code",
   "execution_count": null,
   "metadata": {},
   "outputs": [],
   "source": []
  }
 ],
 "metadata": {
  "kernelspec": {
   "display_name": "Python 3",
   "language": "python",
   "name": "python3"
  },
  "language_info": {
   "codemirror_mode": {
    "name": "ipython",
    "version": 3
   },
   "file_extension": ".py",
   "mimetype": "text/x-python",
   "name": "python",
   "nbconvert_exporter": "python",
   "pygments_lexer": "ipython3",
   "version": "3.5.2"
  }
 },
 "nbformat": 4,
 "nbformat_minor": 2
}
