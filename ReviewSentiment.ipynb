{
 "cells": [
  {
   "cell_type": "code",
   "execution_count": 1,
   "metadata": {},
   "outputs": [],
   "source": [
    "# preprocessing\n",
    "import string\n",
    "from glob import glob\n",
    "\n",
    "data_files = glob('./data/*_labelled.txt')\n",
    "data = dict()\n",
    "\n",
    "printable = set(string.printable)\n",
    "\n",
    "def return_lines_from(file):\n",
    "    with open(filename) as f:\n",
    "        text = f.read()\n",
    "    text = ''.join(list(filter(lambda x: x in printable, text)))\n",
    "    return text.splitlines()\n",
    "\n",
    "for filename in data_files:    \n",
    "    data[filename] = return_lines_from(filename)\n"
   ]
  },
  {
   "cell_type": "code",
   "execution_count": 20,
   "metadata": {},
   "outputs": [],
   "source": [
    "from cleaners.sentence_cleaner import SentenceCleaner\n",
    "from collections import Counter\n",
    "\n",
    "# Split into training and testing data\n",
    "cleaner = SentenceCleaner()\n",
    "\n",
    "testing = { 'data':[], 'labels': [] }\n",
    "training = { 'data':[], 'labels': [] }\n",
    "\n",
    "all_words = []\n",
    "train_words = []\n",
    "\n",
    "for fname in data.keys():\n",
    "    positive = []\n",
    "    negative = []\n",
    "    for i in range(len(data[fname])):\n",
    "        observation = data[fname][i]\n",
    "        sentence, label = observation.split('\\t')\n",
    "        \n",
    "        if int(label) == 1:\n",
    "            positive.append(sentence)\n",
    "        else:\n",
    "            negative.append(sentence)\n",
    "        \n",
    "        all_words += cleaned\n",
    "    \n",
    "    train = positive[:400] + negative[:400]\n",
    "    training['data'] += [Counter(cleaner.clean_sentence(sent)) for sent in train]\n",
    "    \n",
    "    test = positive[-100:] + negative[-100:]\n",
    "    testing['data'] += [Counter(cleaner.clean_sentence(sent)) for sent in test]\n",
    "    \n",
    "    training['labels'] += [1]*400+[0]*400\n",
    "    testing['labels'] += [1]*100 +[0]*100\n"
   ]
  },
  {
   "cell_type": "code",
   "execution_count": 21,
   "metadata": {},
   "outputs": [
    {
     "name": "stdout",
     "output_type": "stream",
     "text": [
      "First Vector\n",
      "[ 0.  0.  0. ...,  0.  0.  0.]\n",
      "Second Vector\n",
      "[ 0.  0.  0. ...,  0.  0.  0.]\n"
     ]
    }
   ],
   "source": [
    "import numpy as np\n",
    "import numpy.linalg as lg\n",
    "\n",
    "training_words = []\n",
    "for observation in training['data']:\n",
    "    training_words += observation\n",
    "    \n",
    "unique_words = list(set(training_words))\n",
    "index_map = {word: unique_words.index(word) for word in unique_words}\n",
    "X_train = np.zeros( [len(training['data']),len(unique_words)] )\n",
    "\n",
    "for i in range(len(training['data'])):\n",
    "    features = training['data'][i]\n",
    "    for key, value in features.items():\n",
    "        index = index_map[key]\n",
    "        X_train[i][index] = value\n",
    "\n",
    "print (\"First Vector\")\n",
    "print (X_train[0]) #vector 1\n",
    "print (\"Second Vector\")\n",
    "print (X_train[1]) #vector 2\n",
    "\n",
    "# Use the l-2 normalization\n",
    "X_train = np.apply_along_axis(lambda x: x/lg.norm(x), 0, X_train)"
   ]
  },
  {
   "cell_type": "code",
   "execution_count": 22,
   "metadata": {},
   "outputs": [
    {
     "data": {
      "text/plain": [
       "BernoulliNB(alpha=1.0, binarize=0.0, class_prior=None, fit_prior=True)"
      ]
     },
     "execution_count": 22,
     "metadata": {},
     "output_type": "execute_result"
    }
   ],
   "source": [
    "from sklearn.linear_model import LogisticRegression\n",
    "from sklearn.naive_bayes import BernoulliNB\n",
    "\n",
    "log_classifier = LogisticRegression()\n",
    "log_classifier.fit(X_train, training['labels'])\n",
    "\n",
    "bayes_classifier = BernoulliNB()\n",
    "bayes_classifier.fit(X_train, training['labels'])"
   ]
  },
  {
   "cell_type": "code",
   "execution_count": 25,
   "metadata": {},
   "outputs": [
    {
     "name": "stdout",
     "output_type": "stream",
     "text": [
      "Logistic Regression:  80.0\n",
      "Bayes Classifier:  80.8333333333\n",
      "\n",
      "The Bayes Classifier does slightly better!\n"
     ]
    }
   ],
   "source": [
    "X_test = np.zeros( [len(testing['data']),len(unique_words)] )\n",
    "\n",
    "for i in range(len(testing['data'])):\n",
    "    features = testing['data'][i]\n",
    "    for key, value in features.items():\n",
    "        if key in index_map.keys():\n",
    "            index = index_map[key] \n",
    "            X_test[i][index] = value\n",
    "\n",
    "print(\"Logistic Regression: \", log_classifier.score(X_test, testing['labels'])*100)\n",
    "print(\"Bayes Classifier: \", bayes_classifier.score(X_test, testing['labels'])*100)\n",
    "\n",
    "print(\"\\nThe Bayes Classifier does slightly better!\")"
   ]
  }
 ],
 "metadata": {
  "kernelspec": {
   "display_name": "Python 3",
   "language": "python",
   "name": "python3"
  },
  "language_info": {
   "codemirror_mode": {
    "name": "ipython",
    "version": 3
   },
   "file_extension": ".py",
   "mimetype": "text/x-python",
   "name": "python",
   "nbconvert_exporter": "python",
   "pygments_lexer": "ipython3",
   "version": "3.5.2"
  }
 },
 "nbformat": 4,
 "nbformat_minor": 2
}
