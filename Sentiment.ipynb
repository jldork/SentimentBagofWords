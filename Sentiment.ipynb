{
 "cells": [
  {
   "cell_type": "code",
   "execution_count": 53,
   "metadata": {},
   "outputs": [],
   "source": [
    "# preprocessing\n",
    "import string\n",
    "from glob import glob\n",
    "\n",
    "data_files = glob('./data/*_labelled.txt')\n",
    "data = dict()\n",
    "\n",
    "printable = set(string.printable)\n",
    "\n",
    "def return_lines_from(file):\n",
    "    with open(filename) as f:\n",
    "        text = f.read()\n",
    "    text = ''.join(list(filter(lambda x: x in printable, text)))\n",
    "    return text.splitlines()\n",
    "\n",
    "for filename in data_files:    \n",
    "    data[filename] = return_lines_from(filename)\n"
   ]
  },
  {
   "cell_type": "code",
   "execution_count": 48,
   "metadata": {},
   "outputs": [],
   "source": [
    "import numpy as np\n",
    "import enchant\n",
    "from nltk.corpus import stopwords\n",
    "from nltk.stem import PorterStemmer\n",
    "from nltk.tokenize import sent_tokenize, word_tokenize\n",
    "\n",
    "class SentenceCleaner:\n",
    "    def __init__(self):\n",
    "        self.dictionary = enchant.Dict(\"en_US\")\n",
    "        self.stemmer = PorterStemmer()\n",
    "        self.stopwords = set(stopwords.words(\"english\"))\n",
    "        self.punc_remover = str.maketrans('', '', string.punctuation)\n",
    "\n",
    "    def stem(self, word):\n",
    "        stemmed = self.stemmer.stem(word)\n",
    "        return stemmed if self.dictionary.check(stemmed) else word\n",
    "\n",
    "    def clean_sentence(self, sentence):\n",
    "        # Get the review text, lowercase + remove punctuation\n",
    "        review_text = sentence.lower().translate(punc_remover)\n",
    "        \n",
    "        # Tokenize the review text into words and remove stopwords\n",
    "        words = word_tokenize(review_text)\n",
    "        stems = [ \n",
    "            self.stem(word) for word in words \n",
    "            if word not in self.stopwords \n",
    "        ]\n",
    "        return stems"
   ]
  },
  {
   "cell_type": "code",
   "execution_count": 91,
   "metadata": {},
   "outputs": [
    {
     "name": "stdout",
     "output_type": "stream",
     "text": [
      "It does everything the description said it would.\t1\n",
      "int label: 1\n"
     ]
    }
   ],
   "source": [
    "# Split into training and testing data\n",
    "cleaner = SentenceCleaner()\n",
    "\n",
    "testing = { 'data':[], 'labels': [] }\n",
    "training = { 'data':[], 'labels': [] }\n",
    "\n",
    "for fname in data.keys():\n",
    "    positive = []\n",
    "    negative = []\n",
    "    for i in range(len(data[fname])):\n",
    "        observation = data[fname][i]\n",
    "        sentence, label = observation.split('\\t')\n",
    "        cleaned = cleaner.clean_sentence(sentence)\n",
    "\n",
    "        if int(label) == 1:\n",
    "            positive.append(cleaned)\n",
    "        else:\n",
    "            negative.append(cleaned)\n",
    "    \n",
    "    training['data'] += positive[:400] + negative[:400]\n",
    "    testing['data'] += positive[-100:] + negative[-100:]\n",
    "    training['labels'] += [1]*400+[0]*400\n",
    "    testing['labels'] += [1]*100 +[0]*100   "
   ]
  },
  {
   "cell_type": "code",
   "execution_count": null,
   "metadata": {},
   "outputs": [],
   "source": []
  }
 ],
 "metadata": {
  "kernelspec": {
   "display_name": "Python 3",
   "language": "python",
   "name": "python3"
  },
  "language_info": {
   "codemirror_mode": {
    "name": "ipython",
    "version": 3
   },
   "file_extension": ".py",
   "mimetype": "text/x-python",
   "name": "python",
   "nbconvert_exporter": "python",
   "pygments_lexer": "ipython3",
   "version": "3.5.2"
  }
 },
 "nbformat": 4,
 "nbformat_minor": 2
}
